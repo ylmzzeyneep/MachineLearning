{
 "cells": [
  {
   "cell_type": "code",
   "id": "initial_id",
   "metadata": {
    "collapsed": true,
    "ExecuteTime": {
     "end_time": "2024-10-15T09:44:03.049878Z",
     "start_time": "2024-10-15T09:44:03.021562Z"
    }
   },
   "source": [
    "a = 10\n",
    "var1 = 20\n",
    "gun = \"pazartesi\"\n",
    "\n",
    "print(a)\n",
    "print(var1)\n",
    "print(gun)\n",
    "\n",
    "type(gun)"
   ],
   "outputs": [
    {
     "name": "stdout",
     "output_type": "stream",
     "text": [
      "10\n",
      "20\n",
      "pazartesi\n"
     ]
    },
    {
     "data": {
      "text/plain": [
       "str"
      ]
     },
     "execution_count": 1,
     "metadata": {},
     "output_type": "execute_result"
    }
   ],
   "execution_count": 1
  },
  {
   "metadata": {
    "ExecuteTime": {
     "end_time": "2024-10-15T09:44:21.028325Z",
     "start_time": "2024-10-15T09:44:21.015168Z"
    }
   },
   "cell_type": "code",
   "source": [
    "var1 = 1\n",
    "var2 = 2\n",
    "var3 = 3\n",
    "\n",
    "list_int = [1, 2, 3]\n",
    "print(list_int)"
   ],
   "id": "2896c45a44f82533",
   "outputs": [
    {
     "name": "stdout",
     "output_type": "stream",
     "text": [
      "[1, 2, 3]\n"
     ]
    }
   ],
   "execution_count": 2
  },
  {
   "metadata": {
    "ExecuteTime": {
     "end_time": "2024-10-15T09:44:27.598665Z",
     "start_time": "2024-10-15T09:44:27.588355Z"
    }
   },
   "cell_type": "code",
   "source": "list_int[0]",
   "id": "a2d8ef1e4da3a2b2",
   "outputs": [
    {
     "data": {
      "text/plain": [
       "1"
      ]
     },
     "execution_count": 3,
     "metadata": {},
     "output_type": "execute_result"
    }
   ],
   "execution_count": 3
  },
  {
   "metadata": {
    "ExecuteTime": {
     "end_time": "2024-10-15T09:44:35.349486Z",
     "start_time": "2024-10-15T09:44:35.336480Z"
    }
   },
   "cell_type": "code",
   "source": "list_int[-1]",
   "id": "ab0899b85e3ad592",
   "outputs": [
    {
     "data": {
      "text/plain": [
       "3"
      ]
     },
     "execution_count": 4,
     "metadata": {},
     "output_type": "execute_result"
    }
   ],
   "execution_count": 4
  },
  {
   "metadata": {
    "ExecuteTime": {
     "end_time": "2024-10-15T09:44:40.928394Z",
     "start_time": "2024-10-15T09:44:40.912752Z"
    }
   },
   "cell_type": "code",
   "source": "list_int[0:3]",
   "id": "d923a75c51a3a12e",
   "outputs": [
    {
     "data": {
      "text/plain": [
       "[1, 2, 3]"
      ]
     },
     "execution_count": 5,
     "metadata": {},
     "output_type": "execute_result"
    }
   ],
   "execution_count": 5
  },
  {
   "metadata": {
    "ExecuteTime": {
     "end_time": "2024-10-15T09:44:49.618656Z",
     "start_time": "2024-10-15T09:44:49.602719Z"
    }
   },
   "cell_type": "code",
   "source": [
    "list_int.append(4)\n",
    "print(list_int)"
   ],
   "id": "bf06d2c8b8110b45",
   "outputs": [
    {
     "name": "stdout",
     "output_type": "stream",
     "text": [
      "[1, 2, 3, 4]\n"
     ]
    }
   ],
   "execution_count": 6
  },
  {
   "metadata": {
    "ExecuteTime": {
     "end_time": "2024-10-15T09:44:55.810140Z",
     "start_time": "2024-10-15T09:44:55.800790Z"
    }
   },
   "cell_type": "code",
   "source": [
    "list_int.remove(3)\n",
    "print(list_int)"
   ],
   "id": "898a4fab46d16d95",
   "outputs": [
    {
     "name": "stdout",
     "output_type": "stream",
     "text": [
      "[1, 2, 4]\n"
     ]
    }
   ],
   "execution_count": 7
  },
  {
   "metadata": {
    "ExecuteTime": {
     "end_time": "2024-10-15T09:45:02.539683Z",
     "start_time": "2024-10-15T09:45:02.524088Z"
    }
   },
   "cell_type": "code",
   "source": [
    "list_int.reverse()\n",
    "print(list_int)"
   ],
   "id": "a9764a7920a816e9",
   "outputs": [
    {
     "name": "stdout",
     "output_type": "stream",
     "text": [
      "[4, 2, 1]\n"
     ]
    }
   ],
   "execution_count": 8
  },
  {
   "metadata": {
    "ExecuteTime": {
     "end_time": "2024-10-15T09:45:08.724363Z",
     "start_time": "2024-10-15T09:45:08.711332Z"
    }
   },
   "cell_type": "code",
   "source": [
    "list_int.sort()\n",
    "print(list_int)"
   ],
   "id": "9840b4a19857971a",
   "outputs": [
    {
     "name": "stdout",
     "output_type": "stream",
     "text": [
      "[1, 2, 4]\n"
     ]
    }
   ],
   "execution_count": 9
  },
  {
   "metadata": {
    "ExecuteTime": {
     "end_time": "2024-10-15T09:45:13.685664Z",
     "start_time": "2024-10-15T09:45:13.669860Z"
    }
   },
   "cell_type": "code",
   "source": [
    "x = 0\n",
    "for each in list_int:\n",
    "    if(each>x):\n",
    "        x = each\n",
    "    else:\n",
    "        continue\n",
    "print(x)"
   ],
   "id": "b2921d61fc5734d1",
   "outputs": [
    {
     "name": "stdout",
     "output_type": "stream",
     "text": [
      "4\n"
     ]
    }
   ],
   "execution_count": 10
  },
  {
   "metadata": {
    "ExecuteTime": {
     "end_time": "2024-10-15T09:45:24.993878Z",
     "start_time": "2024-10-15T09:45:24.984783Z"
    }
   },
   "cell_type": "code",
   "source": [
    "i = 0\n",
    "while(i<5):\n",
    "    print(i)\n",
    "    i = i+1"
   ],
   "id": "5691f5564b58a31b",
   "outputs": [
    {
     "name": "stdout",
     "output_type": "stream",
     "text": [
      "0\n",
      "1\n",
      "2\n",
      "3\n",
      "4\n"
     ]
    }
   ],
   "execution_count": 11
  },
  {
   "metadata": {
    "ExecuteTime": {
     "end_time": "2024-10-15T09:45:32.391427Z",
     "start_time": "2024-10-15T09:45:32.375714Z"
    }
   },
   "cell_type": "code",
   "source": [
    "def cember_cevre(r, pi = 3.14):  \n",
    "    result = 2*pi*r\n",
    "    return result\n",
    "\n",
    "cember_cevre(2) "
   ],
   "id": "58aabbe7030311a3",
   "outputs": [
    {
     "data": {
      "text/plain": [
       "12.56"
      ]
     },
     "execution_count": 12,
     "metadata": {},
     "output_type": "execute_result"
    }
   ],
   "execution_count": 12
  },
  {
   "metadata": {
    "ExecuteTime": {
     "end_time": "2024-10-15T09:45:38.403969Z",
     "start_time": "2024-10-15T09:45:38.388316Z"
    }
   },
   "cell_type": "code",
   "source": [
    "def hesapla(x):\n",
    "    result = x*x\n",
    "    return result\n",
    "\n",
    "hesapla(5)"
   ],
   "id": "94bd339cba897a1",
   "outputs": [
    {
     "data": {
      "text/plain": [
       "25"
      ]
     },
     "execution_count": 13,
     "metadata": {},
     "output_type": "execute_result"
    }
   ],
   "execution_count": 13
  },
  {
   "metadata": {
    "ExecuteTime": {
     "end_time": "2024-10-15T09:45:44.466248Z",
     "start_time": "2024-10-15T09:45:44.450231Z"
    }
   },
   "cell_type": "code",
   "source": [
    "result = lambda x:x*x\n",
    "\n",
    "print(result(5))"
   ],
   "id": "e563173365e4e0d5",
   "outputs": [
    {
     "name": "stdout",
     "output_type": "stream",
     "text": [
      "25\n"
     ]
    }
   ],
   "execution_count": 14
  },
  {
   "metadata": {
    "ExecuteTime": {
     "end_time": "2024-10-15T09:45:51.104643Z",
     "start_time": "2024-10-15T09:45:51.072974Z"
    }
   },
   "cell_type": "code",
   "source": [
    "dictionary = {\"zeynep\":22, \"anil\":20, \"kerem\":7} \n",
    "print(dictionary)"
   ],
   "id": "4ae8d5c9f0b37eb",
   "outputs": [
    {
     "name": "stdout",
     "output_type": "stream",
     "text": [
      "{'zeynep': 22, 'anil': 20, 'kerem': 7}\n"
     ]
    }
   ],
   "execution_count": 15
  },
  {
   "metadata": {
    "ExecuteTime": {
     "end_time": "2024-10-15T09:45:56.884713Z",
     "start_time": "2024-10-15T09:45:56.868597Z"
    }
   },
   "cell_type": "code",
   "source": "type(dictionary)",
   "id": "30748da58307cd80",
   "outputs": [
    {
     "data": {
      "text/plain": [
       "dict"
      ]
     },
     "execution_count": 16,
     "metadata": {},
     "output_type": "execute_result"
    }
   ],
   "execution_count": 16
  },
  {
   "metadata": {
    "ExecuteTime": {
     "end_time": "2024-10-15T09:46:02.021461Z",
     "start_time": "2024-10-15T09:46:02.005436Z"
    }
   },
   "cell_type": "code",
   "source": "dictionary.keys() ",
   "id": "33724aeee1a6684f",
   "outputs": [
    {
     "data": {
      "text/plain": [
       "dict_keys(['zeynep', 'anil', 'kerem'])"
      ]
     },
     "execution_count": 17,
     "metadata": {},
     "output_type": "execute_result"
    }
   ],
   "execution_count": 17
  },
  {
   "metadata": {
    "ExecuteTime": {
     "end_time": "2024-10-15T09:46:09.969553Z",
     "start_time": "2024-10-15T09:46:09.938225Z"
    }
   },
   "cell_type": "code",
   "source": "dictionary.values()",
   "id": "3ded534659c4e4b1",
   "outputs": [
    {
     "data": {
      "text/plain": [
       "dict_values([22, 20, 7])"
      ]
     },
     "execution_count": 18,
     "metadata": {},
     "output_type": "execute_result"
    }
   ],
   "execution_count": 18
  },
  {
   "metadata": {
    "ExecuteTime": {
     "end_time": "2024-10-15T09:46:17.491860Z",
     "start_time": "2024-10-15T09:46:17.476224Z"
    }
   },
   "cell_type": "code",
   "source": [
    "value = dictionary.keys()\n",
    "\n",
    "if \"anil\" in value:\n",
    "    print(\"yes\")\n",
    "else:\n",
    "    print(\"no\")"
   ],
   "id": "663e365d18b0716a",
   "outputs": [
    {
     "name": "stdout",
     "output_type": "stream",
     "text": [
      "yes\n"
     ]
    }
   ],
   "execution_count": 19
  }
 ],
 "metadata": {
  "kernelspec": {
   "display_name": "Python 3",
   "language": "python",
   "name": "python3"
  },
  "language_info": {
   "codemirror_mode": {
    "name": "ipython",
    "version": 2
   },
   "file_extension": ".py",
   "mimetype": "text/x-python",
   "name": "python",
   "nbconvert_exporter": "python",
   "pygments_lexer": "ipython2",
   "version": "2.7.6"
  }
 },
 "nbformat": 4,
 "nbformat_minor": 5
}

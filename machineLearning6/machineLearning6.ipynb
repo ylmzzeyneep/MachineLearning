{
 "cells": [
  {
   "metadata": {
    "ExecuteTime": {
     "end_time": "2024-10-15T10:26:05.231584Z",
     "start_time": "2024-10-15T10:26:03.547329Z"
    }
   },
   "cell_type": "code",
   "source": [
    "import pandas as pd\n",
    "import matplotlib.pyplot as plt\n",
    "import numpy as np\n",
    "from sklearn.linear_model import LinearRegression"
   ],
   "id": "7d8d6681c9da568d",
   "outputs": [],
   "execution_count": 1
  },
  {
   "cell_type": "code",
   "id": "initial_id",
   "metadata": {
    "collapsed": true,
    "ExecuteTime": {
     "end_time": "2024-10-15T10:26:21.854495Z",
     "start_time": "2024-10-15T10:26:21.827719Z"
    }
   },
   "source": "data = pd.read_csv(\"Dataset/data.csv\")",
   "outputs": [],
   "execution_count": 2
  },
  {
   "metadata": {
    "ExecuteTime": {
     "end_time": "2024-10-15T10:26:29.701737Z",
     "start_time": "2024-10-15T10:26:29.654833Z"
    }
   },
   "cell_type": "code",
   "source": "data.head()",
   "id": "9468271d8484f7ba",
   "outputs": [
    {
     "data": {
      "text/plain": [
       "         id diagnosis  radius_mean  texture_mean  perimeter_mean  area_mean  \\\n",
       "0    842302         M        17.99         10.38          122.80     1001.0   \n",
       "1    842517         M        20.57         17.77          132.90     1326.0   \n",
       "2  84300903         M        19.69         21.25          130.00     1203.0   \n",
       "3  84348301         M        11.42         20.38           77.58      386.1   \n",
       "4  84358402         M        20.29         14.34          135.10     1297.0   \n",
       "\n",
       "   smoothness_mean  compactness_mean  concavity_mean  concave points_mean  \\\n",
       "0          0.11840           0.27760          0.3001              0.14710   \n",
       "1          0.08474           0.07864          0.0869              0.07017   \n",
       "2          0.10960           0.15990          0.1974              0.12790   \n",
       "3          0.14250           0.28390          0.2414              0.10520   \n",
       "4          0.10030           0.13280          0.1980              0.10430   \n",
       "\n",
       "   ...  texture_worst  perimeter_worst  area_worst  smoothness_worst  \\\n",
       "0  ...          17.33           184.60      2019.0            0.1622   \n",
       "1  ...          23.41           158.80      1956.0            0.1238   \n",
       "2  ...          25.53           152.50      1709.0            0.1444   \n",
       "3  ...          26.50            98.87       567.7            0.2098   \n",
       "4  ...          16.67           152.20      1575.0            0.1374   \n",
       "\n",
       "   compactness_worst  concavity_worst  concave points_worst  symmetry_worst  \\\n",
       "0             0.6656           0.7119                0.2654          0.4601   \n",
       "1             0.1866           0.2416                0.1860          0.2750   \n",
       "2             0.4245           0.4504                0.2430          0.3613   \n",
       "3             0.8663           0.6869                0.2575          0.6638   \n",
       "4             0.2050           0.4000                0.1625          0.2364   \n",
       "\n",
       "   fractal_dimension_worst  Unnamed: 32  \n",
       "0                  0.11890          NaN  \n",
       "1                  0.08902          NaN  \n",
       "2                  0.08758          NaN  \n",
       "3                  0.17300          NaN  \n",
       "4                  0.07678          NaN  \n",
       "\n",
       "[5 rows x 33 columns]"
      ],
      "text/html": [
       "<div>\n",
       "<style scoped>\n",
       "    .dataframe tbody tr th:only-of-type {\n",
       "        vertical-align: middle;\n",
       "    }\n",
       "\n",
       "    .dataframe tbody tr th {\n",
       "        vertical-align: top;\n",
       "    }\n",
       "\n",
       "    .dataframe thead th {\n",
       "        text-align: right;\n",
       "    }\n",
       "</style>\n",
       "<table border=\"1\" class=\"dataframe\">\n",
       "  <thead>\n",
       "    <tr style=\"text-align: right;\">\n",
       "      <th></th>\n",
       "      <th>id</th>\n",
       "      <th>diagnosis</th>\n",
       "      <th>radius_mean</th>\n",
       "      <th>texture_mean</th>\n",
       "      <th>perimeter_mean</th>\n",
       "      <th>area_mean</th>\n",
       "      <th>smoothness_mean</th>\n",
       "      <th>compactness_mean</th>\n",
       "      <th>concavity_mean</th>\n",
       "      <th>concave points_mean</th>\n",
       "      <th>...</th>\n",
       "      <th>texture_worst</th>\n",
       "      <th>perimeter_worst</th>\n",
       "      <th>area_worst</th>\n",
       "      <th>smoothness_worst</th>\n",
       "      <th>compactness_worst</th>\n",
       "      <th>concavity_worst</th>\n",
       "      <th>concave points_worst</th>\n",
       "      <th>symmetry_worst</th>\n",
       "      <th>fractal_dimension_worst</th>\n",
       "      <th>Unnamed: 32</th>\n",
       "    </tr>\n",
       "  </thead>\n",
       "  <tbody>\n",
       "    <tr>\n",
       "      <th>0</th>\n",
       "      <td>842302</td>\n",
       "      <td>M</td>\n",
       "      <td>17.99</td>\n",
       "      <td>10.38</td>\n",
       "      <td>122.80</td>\n",
       "      <td>1001.0</td>\n",
       "      <td>0.11840</td>\n",
       "      <td>0.27760</td>\n",
       "      <td>0.3001</td>\n",
       "      <td>0.14710</td>\n",
       "      <td>...</td>\n",
       "      <td>17.33</td>\n",
       "      <td>184.60</td>\n",
       "      <td>2019.0</td>\n",
       "      <td>0.1622</td>\n",
       "      <td>0.6656</td>\n",
       "      <td>0.7119</td>\n",
       "      <td>0.2654</td>\n",
       "      <td>0.4601</td>\n",
       "      <td>0.11890</td>\n",
       "      <td>NaN</td>\n",
       "    </tr>\n",
       "    <tr>\n",
       "      <th>1</th>\n",
       "      <td>842517</td>\n",
       "      <td>M</td>\n",
       "      <td>20.57</td>\n",
       "      <td>17.77</td>\n",
       "      <td>132.90</td>\n",
       "      <td>1326.0</td>\n",
       "      <td>0.08474</td>\n",
       "      <td>0.07864</td>\n",
       "      <td>0.0869</td>\n",
       "      <td>0.07017</td>\n",
       "      <td>...</td>\n",
       "      <td>23.41</td>\n",
       "      <td>158.80</td>\n",
       "      <td>1956.0</td>\n",
       "      <td>0.1238</td>\n",
       "      <td>0.1866</td>\n",
       "      <td>0.2416</td>\n",
       "      <td>0.1860</td>\n",
       "      <td>0.2750</td>\n",
       "      <td>0.08902</td>\n",
       "      <td>NaN</td>\n",
       "    </tr>\n",
       "    <tr>\n",
       "      <th>2</th>\n",
       "      <td>84300903</td>\n",
       "      <td>M</td>\n",
       "      <td>19.69</td>\n",
       "      <td>21.25</td>\n",
       "      <td>130.00</td>\n",
       "      <td>1203.0</td>\n",
       "      <td>0.10960</td>\n",
       "      <td>0.15990</td>\n",
       "      <td>0.1974</td>\n",
       "      <td>0.12790</td>\n",
       "      <td>...</td>\n",
       "      <td>25.53</td>\n",
       "      <td>152.50</td>\n",
       "      <td>1709.0</td>\n",
       "      <td>0.1444</td>\n",
       "      <td>0.4245</td>\n",
       "      <td>0.4504</td>\n",
       "      <td>0.2430</td>\n",
       "      <td>0.3613</td>\n",
       "      <td>0.08758</td>\n",
       "      <td>NaN</td>\n",
       "    </tr>\n",
       "    <tr>\n",
       "      <th>3</th>\n",
       "      <td>84348301</td>\n",
       "      <td>M</td>\n",
       "      <td>11.42</td>\n",
       "      <td>20.38</td>\n",
       "      <td>77.58</td>\n",
       "      <td>386.1</td>\n",
       "      <td>0.14250</td>\n",
       "      <td>0.28390</td>\n",
       "      <td>0.2414</td>\n",
       "      <td>0.10520</td>\n",
       "      <td>...</td>\n",
       "      <td>26.50</td>\n",
       "      <td>98.87</td>\n",
       "      <td>567.7</td>\n",
       "      <td>0.2098</td>\n",
       "      <td>0.8663</td>\n",
       "      <td>0.6869</td>\n",
       "      <td>0.2575</td>\n",
       "      <td>0.6638</td>\n",
       "      <td>0.17300</td>\n",
       "      <td>NaN</td>\n",
       "    </tr>\n",
       "    <tr>\n",
       "      <th>4</th>\n",
       "      <td>84358402</td>\n",
       "      <td>M</td>\n",
       "      <td>20.29</td>\n",
       "      <td>14.34</td>\n",
       "      <td>135.10</td>\n",
       "      <td>1297.0</td>\n",
       "      <td>0.10030</td>\n",
       "      <td>0.13280</td>\n",
       "      <td>0.1980</td>\n",
       "      <td>0.10430</td>\n",
       "      <td>...</td>\n",
       "      <td>16.67</td>\n",
       "      <td>152.20</td>\n",
       "      <td>1575.0</td>\n",
       "      <td>0.1374</td>\n",
       "      <td>0.2050</td>\n",
       "      <td>0.4000</td>\n",
       "      <td>0.1625</td>\n",
       "      <td>0.2364</td>\n",
       "      <td>0.07678</td>\n",
       "      <td>NaN</td>\n",
       "    </tr>\n",
       "  </tbody>\n",
       "</table>\n",
       "<p>5 rows × 33 columns</p>\n",
       "</div>"
      ]
     },
     "execution_count": 3,
     "metadata": {},
     "output_type": "execute_result"
    }
   ],
   "execution_count": 3
  },
  {
   "metadata": {
    "ExecuteTime": {
     "end_time": "2024-10-15T10:26:34.332462Z",
     "start_time": "2024-10-15T10:26:34.316584Z"
    }
   },
   "cell_type": "code",
   "source": "data.info()",
   "id": "548763801f4b5069",
   "outputs": [
    {
     "name": "stdout",
     "output_type": "stream",
     "text": [
      "<class 'pandas.core.frame.DataFrame'>\n",
      "RangeIndex: 569 entries, 0 to 568\n",
      "Data columns (total 33 columns):\n",
      " #   Column                   Non-Null Count  Dtype  \n",
      "---  ------                   --------------  -----  \n",
      " 0   id                       569 non-null    int64  \n",
      " 1   diagnosis                569 non-null    object \n",
      " 2   radius_mean              569 non-null    float64\n",
      " 3   texture_mean             569 non-null    float64\n",
      " 4   perimeter_mean           569 non-null    float64\n",
      " 5   area_mean                569 non-null    float64\n",
      " 6   smoothness_mean          569 non-null    float64\n",
      " 7   compactness_mean         569 non-null    float64\n",
      " 8   concavity_mean           569 non-null    float64\n",
      " 9   concave points_mean      569 non-null    float64\n",
      " 10  symmetry_mean            569 non-null    float64\n",
      " 11  fractal_dimension_mean   569 non-null    float64\n",
      " 12  radius_se                569 non-null    float64\n",
      " 13  texture_se               569 non-null    float64\n",
      " 14  perimeter_se             569 non-null    float64\n",
      " 15  area_se                  569 non-null    float64\n",
      " 16  smoothness_se            569 non-null    float64\n",
      " 17  compactness_se           569 non-null    float64\n",
      " 18  concavity_se             569 non-null    float64\n",
      " 19  concave points_se        569 non-null    float64\n",
      " 20  symmetry_se              569 non-null    float64\n",
      " 21  fractal_dimension_se     569 non-null    float64\n",
      " 22  radius_worst             569 non-null    float64\n",
      " 23  texture_worst            569 non-null    float64\n",
      " 24  perimeter_worst          569 non-null    float64\n",
      " 25  area_worst               569 non-null    float64\n",
      " 26  smoothness_worst         569 non-null    float64\n",
      " 27  compactness_worst        569 non-null    float64\n",
      " 28  concavity_worst          569 non-null    float64\n",
      " 29  concave points_worst     569 non-null    float64\n",
      " 30  symmetry_worst           569 non-null    float64\n",
      " 31  fractal_dimension_worst  569 non-null    float64\n",
      " 32  Unnamed: 32              0 non-null      float64\n",
      "dtypes: float64(31), int64(1), object(1)\n",
      "memory usage: 146.8+ KB\n"
     ]
    }
   ],
   "execution_count": 4
  },
  {
   "metadata": {
    "ExecuteTime": {
     "end_time": "2024-10-15T10:26:40.506194Z",
     "start_time": "2024-10-15T10:26:40.490560Z"
    }
   },
   "cell_type": "code",
   "source": "data.drop([\"Unnamed: 32\",\"id\"],axis=1, inplace=True)",
   "id": "e788e60281fd934e",
   "outputs": [],
   "execution_count": 5
  },
  {
   "metadata": {
    "ExecuteTime": {
     "end_time": "2024-10-15T10:26:45.050943Z",
     "start_time": "2024-10-15T10:26:45.035307Z"
    }
   },
   "cell_type": "code",
   "source": "data.diagnosis = [1 if each == 'M' else 0 for each in data.diagnosis]",
   "id": "c4814de0f7873cc2",
   "outputs": [],
   "execution_count": 6
  },
  {
   "metadata": {
    "ExecuteTime": {
     "end_time": "2024-10-15T10:26:49.485714Z",
     "start_time": "2024-10-15T10:26:49.469837Z"
    }
   },
   "cell_type": "code",
   "source": "data.diagnosis = [1 if each == 'M' else 0 for each in data.diagnosis]",
   "id": "e052359c3e08262f",
   "outputs": [],
   "execution_count": 7
  },
  {
   "metadata": {
    "ExecuteTime": {
     "end_time": "2024-10-15T10:27:00.210586Z",
     "start_time": "2024-10-15T10:27:00.194891Z"
    }
   },
   "cell_type": "code",
   "source": [
    "y = data.diagnosis.values \n",
    "x_data = data.drop([\"diagnosis\"],axis=1)"
   ],
   "id": "c70dab8381248a66",
   "outputs": [],
   "execution_count": 8
  },
  {
   "metadata": {
    "ExecuteTime": {
     "end_time": "2024-10-15T10:27:05.559211Z",
     "start_time": "2024-10-15T10:27:05.543134Z"
    }
   },
   "cell_type": "code",
   "source": "x = (x_data - np.min(x_data)) / (np.max(x_data) - np.min(x_data))\n",
   "id": "ce038e9e64e52979",
   "outputs": [],
   "execution_count": 9
  },
  {
   "metadata": {
    "ExecuteTime": {
     "end_time": "2024-10-15T10:27:10.161081Z",
     "start_time": "2024-10-15T10:27:10.129113Z"
    }
   },
   "cell_type": "code",
   "source": "x",
   "id": "a4adc032dc422e2a",
   "outputs": [
    {
     "data": {
      "text/plain": [
       "     radius_mean  texture_mean  perimeter_mean  area_mean  smoothness_mean  \\\n",
       "0       0.004229      0.002440        0.028867   0.235308         0.000028   \n",
       "1       0.004835      0.004177        0.031241   0.311707         0.000020   \n",
       "2       0.004629      0.004995        0.030559   0.282793         0.000026   \n",
       "3       0.002685      0.004791        0.018237   0.090762         0.000033   \n",
       "4       0.004770      0.003371        0.031758   0.304890         0.000024   \n",
       "..           ...           ...             ...        ...              ...   \n",
       "564     0.005068      0.005263        0.033380   0.347673         0.000026   \n",
       "565     0.004732      0.006641        0.030842   0.296427         0.000023   \n",
       "566     0.003902      0.006601        0.025458   0.201716         0.000020   \n",
       "567     0.004843      0.006895        0.032934   0.297367         0.000028   \n",
       "568     0.001824      0.005769        0.011265   0.042548         0.000012   \n",
       "\n",
       "     compactness_mean  concavity_mean  concave points_mean  symmetry_mean  \\\n",
       "0            0.000065        0.000071             0.000035       0.000057   \n",
       "1            0.000018        0.000020             0.000016       0.000043   \n",
       "2            0.000038        0.000046             0.000030       0.000049   \n",
       "3            0.000067        0.000057             0.000025       0.000061   \n",
       "4            0.000031        0.000047             0.000025       0.000043   \n",
       "..                ...             ...                  ...            ...   \n",
       "564          0.000027        0.000057             0.000033       0.000041   \n",
       "565          0.000024        0.000034             0.000023       0.000041   \n",
       "566          0.000024        0.000022             0.000012       0.000037   \n",
       "567          0.000065        0.000083             0.000036       0.000056   \n",
       "568          0.000010        0.000000             0.000000       0.000037   \n",
       "\n",
       "     fractal_dimension_mean  ...  radius_worst  texture_worst  \\\n",
       "0                  0.000019  ...      0.005966       0.004074   \n",
       "1                  0.000013  ...      0.005874       0.005503   \n",
       "2                  0.000014  ...      0.005541       0.006001   \n",
       "3                  0.000023  ...      0.003505       0.006229   \n",
       "4                  0.000014  ...      0.005299       0.003919   \n",
       "..                      ...  ...           ...            ...   \n",
       "564                0.000013  ...      0.005983       0.006206   \n",
       "565                0.000013  ...      0.005569       0.008992   \n",
       "566                0.000013  ...      0.004462       0.008021   \n",
       "567                0.000016  ...      0.006051       0.009267   \n",
       "568                0.000014  ...      0.002223       0.007139   \n",
       "\n",
       "     perimeter_worst  area_worst  smoothness_worst  compactness_worst  \\\n",
       "0           0.043394    0.474612          0.000038           0.000156   \n",
       "1           0.037330    0.459803          0.000029           0.000044   \n",
       "2           0.035849    0.401740          0.000034           0.000100   \n",
       "3           0.023242    0.133451          0.000049           0.000204   \n",
       "4           0.035778    0.370240          0.000032           0.000048   \n",
       "..               ...         ...               ...                ...   \n",
       "564         0.039046    0.476493          0.000033           0.000050   \n",
       "565         0.036436    0.406911          0.000027           0.000045   \n",
       "566         0.029784    0.264222          0.000027           0.000073   \n",
       "567         0.043394    0.428068          0.000039           0.000204   \n",
       "568         0.013907    0.063141          0.000021           0.000015   \n",
       "\n",
       "     concavity_worst  concave points_worst  symmetry_worst  \\\n",
       "0           0.000167              0.000062        0.000108   \n",
       "1           0.000057              0.000044        0.000065   \n",
       "2           0.000106              0.000057        0.000085   \n",
       "3           0.000161              0.000061        0.000156   \n",
       "4           0.000094              0.000038        0.000056   \n",
       "..               ...                   ...             ...   \n",
       "564         0.000097              0.000052        0.000048   \n",
       "565         0.000076              0.000038        0.000060   \n",
       "566         0.000080              0.000033        0.000052   \n",
       "567         0.000221              0.000062        0.000096   \n",
       "568         0.000000              0.000000        0.000067   \n",
       "\n",
       "     fractal_dimension_worst  \n",
       "0                   0.000028  \n",
       "1                   0.000021  \n",
       "2                   0.000021  \n",
       "3                   0.000041  \n",
       "4                   0.000018  \n",
       "..                       ...  \n",
       "564                 0.000017  \n",
       "565                 0.000016  \n",
       "566                 0.000018  \n",
       "567                 0.000029  \n",
       "568                 0.000017  \n",
       "\n",
       "[569 rows x 30 columns]"
      ],
      "text/html": [
       "<div>\n",
       "<style scoped>\n",
       "    .dataframe tbody tr th:only-of-type {\n",
       "        vertical-align: middle;\n",
       "    }\n",
       "\n",
       "    .dataframe tbody tr th {\n",
       "        vertical-align: top;\n",
       "    }\n",
       "\n",
       "    .dataframe thead th {\n",
       "        text-align: right;\n",
       "    }\n",
       "</style>\n",
       "<table border=\"1\" class=\"dataframe\">\n",
       "  <thead>\n",
       "    <tr style=\"text-align: right;\">\n",
       "      <th></th>\n",
       "      <th>radius_mean</th>\n",
       "      <th>texture_mean</th>\n",
       "      <th>perimeter_mean</th>\n",
       "      <th>area_mean</th>\n",
       "      <th>smoothness_mean</th>\n",
       "      <th>compactness_mean</th>\n",
       "      <th>concavity_mean</th>\n",
       "      <th>concave points_mean</th>\n",
       "      <th>symmetry_mean</th>\n",
       "      <th>fractal_dimension_mean</th>\n",
       "      <th>...</th>\n",
       "      <th>radius_worst</th>\n",
       "      <th>texture_worst</th>\n",
       "      <th>perimeter_worst</th>\n",
       "      <th>area_worst</th>\n",
       "      <th>smoothness_worst</th>\n",
       "      <th>compactness_worst</th>\n",
       "      <th>concavity_worst</th>\n",
       "      <th>concave points_worst</th>\n",
       "      <th>symmetry_worst</th>\n",
       "      <th>fractal_dimension_worst</th>\n",
       "    </tr>\n",
       "  </thead>\n",
       "  <tbody>\n",
       "    <tr>\n",
       "      <th>0</th>\n",
       "      <td>0.004229</td>\n",
       "      <td>0.002440</td>\n",
       "      <td>0.028867</td>\n",
       "      <td>0.235308</td>\n",
       "      <td>0.000028</td>\n",
       "      <td>0.000065</td>\n",
       "      <td>0.000071</td>\n",
       "      <td>0.000035</td>\n",
       "      <td>0.000057</td>\n",
       "      <td>0.000019</td>\n",
       "      <td>...</td>\n",
       "      <td>0.005966</td>\n",
       "      <td>0.004074</td>\n",
       "      <td>0.043394</td>\n",
       "      <td>0.474612</td>\n",
       "      <td>0.000038</td>\n",
       "      <td>0.000156</td>\n",
       "      <td>0.000167</td>\n",
       "      <td>0.000062</td>\n",
       "      <td>0.000108</td>\n",
       "      <td>0.000028</td>\n",
       "    </tr>\n",
       "    <tr>\n",
       "      <th>1</th>\n",
       "      <td>0.004835</td>\n",
       "      <td>0.004177</td>\n",
       "      <td>0.031241</td>\n",
       "      <td>0.311707</td>\n",
       "      <td>0.000020</td>\n",
       "      <td>0.000018</td>\n",
       "      <td>0.000020</td>\n",
       "      <td>0.000016</td>\n",
       "      <td>0.000043</td>\n",
       "      <td>0.000013</td>\n",
       "      <td>...</td>\n",
       "      <td>0.005874</td>\n",
       "      <td>0.005503</td>\n",
       "      <td>0.037330</td>\n",
       "      <td>0.459803</td>\n",
       "      <td>0.000029</td>\n",
       "      <td>0.000044</td>\n",
       "      <td>0.000057</td>\n",
       "      <td>0.000044</td>\n",
       "      <td>0.000065</td>\n",
       "      <td>0.000021</td>\n",
       "    </tr>\n",
       "    <tr>\n",
       "      <th>2</th>\n",
       "      <td>0.004629</td>\n",
       "      <td>0.004995</td>\n",
       "      <td>0.030559</td>\n",
       "      <td>0.282793</td>\n",
       "      <td>0.000026</td>\n",
       "      <td>0.000038</td>\n",
       "      <td>0.000046</td>\n",
       "      <td>0.000030</td>\n",
       "      <td>0.000049</td>\n",
       "      <td>0.000014</td>\n",
       "      <td>...</td>\n",
       "      <td>0.005541</td>\n",
       "      <td>0.006001</td>\n",
       "      <td>0.035849</td>\n",
       "      <td>0.401740</td>\n",
       "      <td>0.000034</td>\n",
       "      <td>0.000100</td>\n",
       "      <td>0.000106</td>\n",
       "      <td>0.000057</td>\n",
       "      <td>0.000085</td>\n",
       "      <td>0.000021</td>\n",
       "    </tr>\n",
       "    <tr>\n",
       "      <th>3</th>\n",
       "      <td>0.002685</td>\n",
       "      <td>0.004791</td>\n",
       "      <td>0.018237</td>\n",
       "      <td>0.090762</td>\n",
       "      <td>0.000033</td>\n",
       "      <td>0.000067</td>\n",
       "      <td>0.000057</td>\n",
       "      <td>0.000025</td>\n",
       "      <td>0.000061</td>\n",
       "      <td>0.000023</td>\n",
       "      <td>...</td>\n",
       "      <td>0.003505</td>\n",
       "      <td>0.006229</td>\n",
       "      <td>0.023242</td>\n",
       "      <td>0.133451</td>\n",
       "      <td>0.000049</td>\n",
       "      <td>0.000204</td>\n",
       "      <td>0.000161</td>\n",
       "      <td>0.000061</td>\n",
       "      <td>0.000156</td>\n",
       "      <td>0.000041</td>\n",
       "    </tr>\n",
       "    <tr>\n",
       "      <th>4</th>\n",
       "      <td>0.004770</td>\n",
       "      <td>0.003371</td>\n",
       "      <td>0.031758</td>\n",
       "      <td>0.304890</td>\n",
       "      <td>0.000024</td>\n",
       "      <td>0.000031</td>\n",
       "      <td>0.000047</td>\n",
       "      <td>0.000025</td>\n",
       "      <td>0.000043</td>\n",
       "      <td>0.000014</td>\n",
       "      <td>...</td>\n",
       "      <td>0.005299</td>\n",
       "      <td>0.003919</td>\n",
       "      <td>0.035778</td>\n",
       "      <td>0.370240</td>\n",
       "      <td>0.000032</td>\n",
       "      <td>0.000048</td>\n",
       "      <td>0.000094</td>\n",
       "      <td>0.000038</td>\n",
       "      <td>0.000056</td>\n",
       "      <td>0.000018</td>\n",
       "    </tr>\n",
       "    <tr>\n",
       "      <th>...</th>\n",
       "      <td>...</td>\n",
       "      <td>...</td>\n",
       "      <td>...</td>\n",
       "      <td>...</td>\n",
       "      <td>...</td>\n",
       "      <td>...</td>\n",
       "      <td>...</td>\n",
       "      <td>...</td>\n",
       "      <td>...</td>\n",
       "      <td>...</td>\n",
       "      <td>...</td>\n",
       "      <td>...</td>\n",
       "      <td>...</td>\n",
       "      <td>...</td>\n",
       "      <td>...</td>\n",
       "      <td>...</td>\n",
       "      <td>...</td>\n",
       "      <td>...</td>\n",
       "      <td>...</td>\n",
       "      <td>...</td>\n",
       "      <td>...</td>\n",
       "    </tr>\n",
       "    <tr>\n",
       "      <th>564</th>\n",
       "      <td>0.005068</td>\n",
       "      <td>0.005263</td>\n",
       "      <td>0.033380</td>\n",
       "      <td>0.347673</td>\n",
       "      <td>0.000026</td>\n",
       "      <td>0.000027</td>\n",
       "      <td>0.000057</td>\n",
       "      <td>0.000033</td>\n",
       "      <td>0.000041</td>\n",
       "      <td>0.000013</td>\n",
       "      <td>...</td>\n",
       "      <td>0.005983</td>\n",
       "      <td>0.006206</td>\n",
       "      <td>0.039046</td>\n",
       "      <td>0.476493</td>\n",
       "      <td>0.000033</td>\n",
       "      <td>0.000050</td>\n",
       "      <td>0.000097</td>\n",
       "      <td>0.000052</td>\n",
       "      <td>0.000048</td>\n",
       "      <td>0.000017</td>\n",
       "    </tr>\n",
       "    <tr>\n",
       "      <th>565</th>\n",
       "      <td>0.004732</td>\n",
       "      <td>0.006641</td>\n",
       "      <td>0.030842</td>\n",
       "      <td>0.296427</td>\n",
       "      <td>0.000023</td>\n",
       "      <td>0.000024</td>\n",
       "      <td>0.000034</td>\n",
       "      <td>0.000023</td>\n",
       "      <td>0.000041</td>\n",
       "      <td>0.000013</td>\n",
       "      <td>...</td>\n",
       "      <td>0.005569</td>\n",
       "      <td>0.008992</td>\n",
       "      <td>0.036436</td>\n",
       "      <td>0.406911</td>\n",
       "      <td>0.000027</td>\n",
       "      <td>0.000045</td>\n",
       "      <td>0.000076</td>\n",
       "      <td>0.000038</td>\n",
       "      <td>0.000060</td>\n",
       "      <td>0.000016</td>\n",
       "    </tr>\n",
       "    <tr>\n",
       "      <th>566</th>\n",
       "      <td>0.003902</td>\n",
       "      <td>0.006601</td>\n",
       "      <td>0.025458</td>\n",
       "      <td>0.201716</td>\n",
       "      <td>0.000020</td>\n",
       "      <td>0.000024</td>\n",
       "      <td>0.000022</td>\n",
       "      <td>0.000012</td>\n",
       "      <td>0.000037</td>\n",
       "      <td>0.000013</td>\n",
       "      <td>...</td>\n",
       "      <td>0.004462</td>\n",
       "      <td>0.008021</td>\n",
       "      <td>0.029784</td>\n",
       "      <td>0.264222</td>\n",
       "      <td>0.000027</td>\n",
       "      <td>0.000073</td>\n",
       "      <td>0.000080</td>\n",
       "      <td>0.000033</td>\n",
       "      <td>0.000052</td>\n",
       "      <td>0.000018</td>\n",
       "    </tr>\n",
       "    <tr>\n",
       "      <th>567</th>\n",
       "      <td>0.004843</td>\n",
       "      <td>0.006895</td>\n",
       "      <td>0.032934</td>\n",
       "      <td>0.297367</td>\n",
       "      <td>0.000028</td>\n",
       "      <td>0.000065</td>\n",
       "      <td>0.000083</td>\n",
       "      <td>0.000036</td>\n",
       "      <td>0.000056</td>\n",
       "      <td>0.000016</td>\n",
       "      <td>...</td>\n",
       "      <td>0.006051</td>\n",
       "      <td>0.009267</td>\n",
       "      <td>0.043394</td>\n",
       "      <td>0.428068</td>\n",
       "      <td>0.000039</td>\n",
       "      <td>0.000204</td>\n",
       "      <td>0.000221</td>\n",
       "      <td>0.000062</td>\n",
       "      <td>0.000096</td>\n",
       "      <td>0.000029</td>\n",
       "    </tr>\n",
       "    <tr>\n",
       "      <th>568</th>\n",
       "      <td>0.001824</td>\n",
       "      <td>0.005769</td>\n",
       "      <td>0.011265</td>\n",
       "      <td>0.042548</td>\n",
       "      <td>0.000012</td>\n",
       "      <td>0.000010</td>\n",
       "      <td>0.000000</td>\n",
       "      <td>0.000000</td>\n",
       "      <td>0.000037</td>\n",
       "      <td>0.000014</td>\n",
       "      <td>...</td>\n",
       "      <td>0.002223</td>\n",
       "      <td>0.007139</td>\n",
       "      <td>0.013907</td>\n",
       "      <td>0.063141</td>\n",
       "      <td>0.000021</td>\n",
       "      <td>0.000015</td>\n",
       "      <td>0.000000</td>\n",
       "      <td>0.000000</td>\n",
       "      <td>0.000067</td>\n",
       "      <td>0.000017</td>\n",
       "    </tr>\n",
       "  </tbody>\n",
       "</table>\n",
       "<p>569 rows × 30 columns</p>\n",
       "</div>"
      ]
     },
     "execution_count": 10,
     "metadata": {},
     "output_type": "execute_result"
    }
   ],
   "execution_count": 10
  },
  {
   "metadata": {
    "ExecuteTime": {
     "end_time": "2024-10-15T10:27:14.794365Z",
     "start_time": "2024-10-15T10:27:14.778351Z"
    }
   },
   "cell_type": "code",
   "source": [
    "from sklearn.model_selection import train_test_split\n",
    "x_train, x_test, y_train, y_test = train_test_split (x,y,test_size=0.20,random_state=42)"
   ],
   "id": "3c1b958049753c92",
   "outputs": [],
   "execution_count": 11
  },
  {
   "metadata": {
    "ExecuteTime": {
     "end_time": "2024-10-15T10:27:19.482143Z",
     "start_time": "2024-10-15T10:27:19.450884Z"
    }
   },
   "cell_type": "code",
   "source": [
    "x_train = x_train.T\n",
    "x_train.shape"
   ],
   "id": "4265dcdbeab178ba",
   "outputs": [
    {
     "data": {
      "text/plain": [
       "(30, 455)"
      ]
     },
     "execution_count": 12,
     "metadata": {},
     "output_type": "execute_result"
    }
   ],
   "execution_count": 12
  },
  {
   "metadata": {
    "ExecuteTime": {
     "end_time": "2024-10-15T10:27:23.745858Z",
     "start_time": "2024-10-15T10:27:23.730219Z"
    }
   },
   "cell_type": "code",
   "source": [
    "x_test = x_test.T\n",
    "y_train = y_train.T\n",
    "y_test = y_test.T"
   ],
   "id": "387a64db18989480",
   "outputs": [],
   "execution_count": 13
  },
  {
   "metadata": {
    "ExecuteTime": {
     "end_time": "2024-10-15T10:27:28.709120Z",
     "start_time": "2024-10-15T10:27:28.693486Z"
    }
   },
   "cell_type": "code",
   "source": "print(x_test.shape)",
   "id": "f564e3690e5b15e0",
   "outputs": [
    {
     "name": "stdout",
     "output_type": "stream",
     "text": [
      "(30, 114)\n"
     ]
    }
   ],
   "execution_count": 14
  },
  {
   "metadata": {
    "ExecuteTime": {
     "end_time": "2024-10-15T10:27:32.429214Z",
     "start_time": "2024-10-15T10:27:32.413273Z"
    }
   },
   "cell_type": "code",
   "source": "y_train.shape",
   "id": "a3b5a39538bb93a4",
   "outputs": [
    {
     "data": {
      "text/plain": [
       "(455,)"
      ]
     },
     "execution_count": 15,
     "metadata": {},
     "output_type": "execute_result"
    }
   ],
   "execution_count": 15
  },
  {
   "metadata": {
    "ExecuteTime": {
     "end_time": "2024-10-15T10:27:37.367415Z",
     "start_time": "2024-10-15T10:27:37.335956Z"
    }
   },
   "cell_type": "code",
   "source": "y_test.shape",
   "id": "3a6c445031941c7f",
   "outputs": [
    {
     "data": {
      "text/plain": [
       "(114,)"
      ]
     },
     "execution_count": 16,
     "metadata": {},
     "output_type": "execute_result"
    }
   ],
   "execution_count": 16
  },
  {
   "metadata": {
    "ExecuteTime": {
     "end_time": "2024-10-15T10:27:41.145270Z",
     "start_time": "2024-10-15T10:27:41.113713Z"
    }
   },
   "cell_type": "code",
   "source": [
    "def initialize_weights_and_bias(dimension):\n",
    "    w = np.full((dimension,1),0.01)\n",
    "    b=0.0\n",
    "    return w,b"
   ],
   "id": "11fc2a9c0a703ee2",
   "outputs": [],
   "execution_count": 17
  },
  {
   "metadata": {
    "ExecuteTime": {
     "end_time": "2024-10-15T10:27:44.510591Z",
     "start_time": "2024-10-15T10:27:44.494512Z"
    }
   },
   "cell_type": "code",
   "source": [
    "def sigmoid(z):\n",
    "    y_head = 1/(1+np.exp(-z))\n",
    "    return y_head"
   ],
   "id": "abf524533edfcc75",
   "outputs": [],
   "execution_count": 18
  },
  {
   "metadata": {
    "ExecuteTime": {
     "end_time": "2024-10-15T10:27:49.378623Z",
     "start_time": "2024-10-15T10:27:49.362886Z"
    }
   },
   "cell_type": "code",
   "source": "sigmoid(0)",
   "id": "c3028b7de1c26f00",
   "outputs": [
    {
     "data": {
      "text/plain": [
       "np.float64(0.5)"
      ]
     },
     "execution_count": 19,
     "metadata": {},
     "output_type": "execute_result"
    }
   ],
   "execution_count": 19
  },
  {
   "metadata": {
    "ExecuteTime": {
     "end_time": "2024-10-15T10:27:53.001507Z",
     "start_time": "2024-10-15T10:27:52.985769Z"
    }
   },
   "cell_type": "code",
   "source": [
    "def forward_backward_propagation(w,b,x_train,y_train):\n",
    "\n",
    "    # forward propagation\n",
    "    z = np.dot(w.T,x_train) + b \n",
    "    y_head = sigmoid(z) \n",
    "    loss = -y_train*np.log(y_head)-(1-y_train)*np.log(1-y_head) \n",
    "    cost = (np.sum(loss))/x_train.shape[1]   \n",
    "\n",
    "    # backward propagation\n",
    "    derivative_weight = (np.dot(x_train,((y_head-y_train).T)))/x_train.shape[1]  \n",
    "    derivative_bias = np.sum(y_head-y_train)/x_train.shape[1]              \n",
    "    gradients = {\"derivative_weight\": derivative_weight,\"derivative_bias\": derivative_bias}\n",
    "\n",
    "    return cost,gradients"
   ],
   "id": "38ccde6e1e9d3f",
   "outputs": [],
   "execution_count": 20
  },
  {
   "metadata": {
    "ExecuteTime": {
     "end_time": "2024-10-15T10:28:02.617926Z",
     "start_time": "2024-10-15T10:28:02.586599Z"
    }
   },
   "cell_type": "code",
   "source": [
    "def update(w, b, x_train, y_train, learning_rate,number_of_iterarion):\n",
    "    cost_list = []\n",
    "    cost_list2 = []\n",
    "    index = []\n",
    "    \n",
    "    for i in range(number_of_iterarion): \n",
    "        cost,gradients = forward_backward_propagation(w,b,x_train,y_train) \n",
    "        cost_list.append(cost) \n",
    "        w = w - learning_rate * gradients[\"derivative_weight\"]  \n",
    "        b = b - learning_rate * gradients[\"derivative_bias\"]   \n",
    "        if i % 10 == 0:\n",
    "            cost_list2.append(cost) \n",
    "            index.append(i)\n",
    "            print (\"Cost after iteration %i: %f\" %(i, cost))\n",
    "\n",
    "    parameters = {\"weight\": w,\"bias\": b} \n",
    "    plt.plot(index,cost_list2) \n",
    "    plt.xticks(index,rotation='vertical') \n",
    "    plt.xlabel(\"Number of Iterarion\")\n",
    "    plt.ylabel(\"Cost\")\n",
    "    plt.show()\n",
    "    return parameters, gradients, cost_list "
   ],
   "id": "ca02e2fc5baf5873",
   "outputs": [],
   "execution_count": 21
  },
  {
   "metadata": {
    "ExecuteTime": {
     "end_time": "2024-10-15T10:28:07.213883Z",
     "start_time": "2024-10-15T10:28:07.198031Z"
    }
   },
   "cell_type": "code",
   "source": [
    "def predict(w,b,x_test):\n",
    "    \n",
    "    z = sigmoid(np.dot(w.T,x_test)+b) \n",
    "    Y_prediction = np.zeros((1,x_test.shape[1])) #(1,114) \n",
    "    \n",
    "    for i in range(z.shape[1]): \n",
    "        if z[0,i]<= 0.5: \n",
    "            Y_prediction[0,i] = 0\n",
    "        else:\n",
    "            Y_prediction[0,i] = 1\n",
    "                        \n",
    "    return Y_prediction"
   ],
   "id": "3ac6af794e74f2ac",
   "outputs": [],
   "execution_count": 22
  },
  {
   "metadata": {
    "ExecuteTime": {
     "end_time": "2024-10-15T10:28:11.867804Z",
     "start_time": "2024-10-15T10:28:11.579363Z"
    }
   },
   "cell_type": "code",
   "source": [
    "def logistic_regression(x_train, y_train, x_test, y_test, learning_rate ,  num_iterations):\n",
    "    \n",
    "    dimension =  x_train.shape[0]  \n",
    "    w,b = initialize_weights_and_bias(dimension)\n",
    "\n",
    "    parameters, gradients, cost_list = update(w, b, x_train, y_train, learning_rate,num_iterations)\n",
    "\n",
    "    y_prediction_test = predict(parameters[\"weight\"],parameters[\"bias\"],x_test)\n",
    "   \n",
    "    print(\"test accuracy: {} %\".format(100 - np.mean(np.abs(y_prediction_test - y_test)) * 100))\n",
    "    \n",
    "logistic_regression(x_train, y_train, x_test, y_test,learning_rate = 3, num_iterations = 300)"
   ],
   "id": "6a3531c57fe0c6b4",
   "outputs": [
    {
     "name": "stdout",
     "output_type": "stream",
     "text": [
      "Cost after iteration 0: 0.695327\n",
      "Cost after iteration 10: 0.028389\n",
      "Cost after iteration 20: 0.014851\n",
      "Cost after iteration 30: 0.010074\n",
      "Cost after iteration 40: 0.007628\n",
      "Cost after iteration 50: 0.006139\n",
      "Cost after iteration 60: 0.005137\n",
      "Cost after iteration 70: 0.004417\n",
      "Cost after iteration 80: 0.003874\n",
      "Cost after iteration 90: 0.003451\n",
      "Cost after iteration 100: 0.003111\n",
      "Cost after iteration 110: 0.002832\n",
      "Cost after iteration 120: 0.002599\n",
      "Cost after iteration 130: 0.002401\n",
      "Cost after iteration 140: 0.002231\n",
      "Cost after iteration 150: 0.002084\n",
      "Cost after iteration 160: 0.001955\n",
      "Cost after iteration 170: 0.001841\n",
      "Cost after iteration 180: 0.001740\n",
      "Cost after iteration 190: 0.001649\n",
      "Cost after iteration 200: 0.001568\n",
      "Cost after iteration 210: 0.001494\n",
      "Cost after iteration 220: 0.001426\n",
      "Cost after iteration 230: 0.001365\n",
      "Cost after iteration 240: 0.001308\n",
      "Cost after iteration 250: 0.001256\n",
      "Cost after iteration 260: 0.001208\n",
      "Cost after iteration 270: 0.001164\n",
      "Cost after iteration 280: 0.001123\n",
      "Cost after iteration 290: 0.001084\n"
     ]
    },
    {
     "data": {
      "text/plain": [
       "<Figure size 640x480 with 1 Axes>"
      ],
      "image/png": "[encoded data removed]"
     },
     "metadata": {},
     "output_type": "display_data"
    },
    {
     "name": "stdout",
     "output_type": "stream",
     "text": [
      "test accuracy: 100.0 %\n"
     ]
    }
   ],
   "execution_count": 23
  }
 ],
 "metadata": {
  "kernelspec": {
   "display_name": "Python 3",
   "language": "python",
   "name": "python3"
  },
  "language_info": {
   "codemirror_mode": {
    "name": "ipython",
    "version": 2
   },
   "file_extension": ".py",
   "mimetype": "text/x-python",
   "name": "python",
   "nbconvert_exporter": "python",
   "pygments_lexer": "ipython2",
   "version": "2.7.6"
  }
 },
 "nbformat": 4,
 "nbformat_minor": 5
}
